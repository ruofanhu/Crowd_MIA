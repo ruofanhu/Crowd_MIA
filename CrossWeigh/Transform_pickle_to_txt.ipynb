{
 "cells": [
  {
   "cell_type": "markdown",
   "metadata": {},
   "source": [
    "Please use this file to transform .p files, which are downloaded from OSF dataset link, to .txt files for CrossWeigh training. Change input, output directories accordingly"
   ]
  },
  {
   "cell_type": "code",
   "execution_count": 1,
   "metadata": {},
   "outputs": [],
   "source": [
    "import pandas as pd\n",
    "import os"
   ]
  },
  {
   "cell_type": "code",
   "execution_count": null,
   "metadata": {},
   "outputs": [],
   "source": [
    "train_data = pd.read_pickle('./crowd/train.p')\n",
    "dev_data = pd.read_pickle('./crowd/dev.p')\n",
    "test_data = pd.read_pickle('./crowd/test.p')"
   ]
  },
  {
   "cell_type": "code",
   "execution_count": null,
   "metadata": {},
   "outputs": [],
   "source": [
    "data_dir = './data'\n",
    "with open(os.path.join(data_dir, 'train.txt'), 'w') as outfile:\n",
    "    tokens = train_data['tweet_tokens']\n",
    "    labels = train_data['entity_label']\n",
    "    for tlist, llist in zip(tokens, labels):\n",
    "        for t, l in zip(tlist, llist):\n",
    "            to_write = t + ' ' + l + '\\n'\n",
    "            outfile.writelines(to_write)\n",
    "        outfile.writelines('\\n')\n",
    "\n",
    "data_dir = './data'\n",
    "with open(os.path.join(data_dir, 'dev.txt'), 'w') as outfile:\n",
    "    tokens = dev_data['tweet_tokens']\n",
    "    labels = dev_data['entity_label']\n",
    "    for tlist, llist in zip(tokens, labels):\n",
    "        for t, l in zip(tlist, llist):\n",
    "            to_write = t + ' ' + l + '\\n'\n",
    "            outfile.writelines(to_write)\n",
    "        outfile.writelines('\\n')\n",
    "\n",
    "data_dir = './data'\n",
    "with open(os.path.join(data_dir, 'test.txt'), 'w') as outfile:\n",
    "    tokens = test_data['tweet_tokens']\n",
    "    labels = test_data['entity_label']\n",
    "    for tlist, llist in zip(tokens, labels):\n",
    "        for t, l in zip(tlist, llist):\n",
    "            to_write = t + ' ' + l + '\\n'\n",
    "            outfile.writelines(to_write)\n",
    "        outfile.writelines('\\n')"
   ]
  },
  {
   "cell_type": "code",
   "execution_count": null,
   "metadata": {},
   "outputs": [],
   "source": [
    "data_dir = './data'\n",
    "with open(os.path.join(data_dir, 'train.txt'), 'w') as outfile:\n",
    "    tokens = train_data['tweet_tokens']\n",
    "    labels = train_data['relevance_entity_class_label']\n",
    "    for tlist, llist in zip(tokens, labels):\n",
    "        for t, l in zip(tlist, llist):\n",
    "            to_write = t + ' ' + l + '\\n'\n",
    "            outfile.writelines(to_write)\n",
    "        outfile.writelines('\\n')\n",
    "\n",
    "data_dir = './data'\n",
    "with open(os.path.join(data_dir, 'dev.txt'), 'w') as outfile:\n",
    "    tokens = dev_data['tweet_tokens']\n",
    "    labels = dev_data['relevance_entity_class_label']\n",
    "    for tlist, llist in zip(tokens, labels):\n",
    "        for t, l in zip(tlist, llist):\n",
    "            to_write = t + ' ' + l + '\\n'\n",
    "            outfile.writelines(to_write)\n",
    "        outfile.writelines('\\n')\n",
    "\n",
    "data_dir = './data'\n",
    "with open(os.path.join(data_dir, 'test.txt'), 'w') as outfile:\n",
    "    tokens = test_data['tweet_tokens']\n",
    "    labels = test_data['relevance_entity_class_label']\n",
    "    for tlist, llist in zip(tokens, labels):\n",
    "        for t, l in zip(tlist, llist):\n",
    "            to_write = t + ' ' + l + '\\n'\n",
    "            outfile.writelines(to_write)\n",
    "        outfile.writelines('\\n')"
   ]
  }
 ],
 "metadata": {
  "kernelspec": {
   "display_name": "Python 3",
   "language": "python",
   "name": "python3"
  },
  "language_info": {
   "codemirror_mode": {
    "name": "ipython",
    "version": 3
   },
   "file_extension": ".py",
   "mimetype": "text/x-python",
   "name": "python",
   "nbconvert_exporter": "python",
   "pygments_lexer": "ipython3",
   "version": "3.7.2"
  },
  "toc": {
   "base_numbering": 1,
   "nav_menu": {},
   "number_sections": true,
   "sideBar": true,
   "skip_h1_title": false,
   "title_cell": "Table of Contents",
   "title_sidebar": "Contents",
   "toc_cell": false,
   "toc_position": {},
   "toc_section_display": true,
   "toc_window_display": false
  },
  "varInspector": {
   "cols": {
    "lenName": 16,
    "lenType": 16,
    "lenVar": 40
   },
   "kernels_config": {
    "python": {
     "delete_cmd_postfix": "",
     "delete_cmd_prefix": "del ",
     "library": "var_list.py",
     "varRefreshCmd": "print(var_dic_list())"
    },
    "r": {
     "delete_cmd_postfix": ") ",
     "delete_cmd_prefix": "rm(",
     "library": "var_list.r",
     "varRefreshCmd": "cat(var_dic_list()) "
    }
   },
   "types_to_exclude": [
    "module",
    "function",
    "builtin_function_or_method",
    "instance",
    "_Feature"
   ],
   "window_display": false
  }
 },
 "nbformat": 4,
 "nbformat_minor": 4
}
